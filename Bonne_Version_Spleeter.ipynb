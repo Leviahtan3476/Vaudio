{
  "cells": [
    {
      "cell_type": "markdown",
      "metadata": {
        "id": "K6mcSc0mmp3i"
      },
      "source": [
        "# Install spleeter"
      ]
    },
    {
      "cell_type": "code",
      "execution_count": null,
      "metadata": {
        "id": "f8Brdfh6mzEz"
      },
      "outputs": [],
      "source": [
        "!apt install ffmpeg"
      ]
    },
    {
      "cell_type": "code",
      "execution_count": null,
      "metadata": {
        "id": "V_6Ram1lmc1F"
      },
      "outputs": [],
      "source": [
        "!pip install spleeter"
      ]
    },
    {
      "cell_type": "code",
      "source": [
        "!git clone https://github.com/Deezer/spleeter\n",
        "!conda env create -f spleeter/conda/spleeter-cpu.yaml\n",
        "!conda activate spleeter-cpu"
      ],
      "metadata": {
        "id": "QoujnDKZ4tix"
      },
      "execution_count": null,
      "outputs": []
    },
    {
      "cell_type": "code",
      "source": [
        "pip freeze"
      ],
      "metadata": {
        "id": "AZ6Kk9emGkdZ"
      },
      "execution_count": null,
      "outputs": []
    },
    {
      "cell_type": "code",
      "execution_count": null,
      "metadata": {
        "id": "W0LktyMypXqE"
      },
      "outputs": [],
      "source": [
        "from IPython.display import Audio"
      ]
    },
    {
      "cell_type": "markdown",
      "metadata": {
        "id": "afbcUSken16L"
      },
      "source": [
        "# Separate from command line \n",
        "\n",
        "Code pour faire 2 stems : VOIX + INSTRUMENTAL"
      ]
    },
    {
      "cell_type": "code",
      "source": [
        "from google.colab import files\n",
        "\n",
        "uploaded = files.upload()\n",
        "\n",
        "for filename in uploaded.keys():\n",
        "    print('Le fichier \"{name}\" a été téléchargé avec succès, avec une taille de {length} octets.'.format(\n",
        "        name=filename, length=len(uploaded[filename])))\n"
      ],
      "metadata": {
        "id": "SyJ6zMtq8Oz8"
      },
      "execution_count": null,
      "outputs": []
    },
    {
      "cell_type": "code",
      "source": [
        "! rm -f song.mp3  # remove the song.mp3 if it exists\n",
        "files.upload()\n",
        "! echo \"Moving song.mp3....\"\n",
        "! mv song.mp3 spleeter/audio_example.mp3"
      ],
      "metadata": {
        "id": "XaBklEee5Xie"
      },
      "execution_count": null,
      "outputs": []
    },
    {
      "cell_type": "code",
      "execution_count": null,
      "metadata": {
        "id": "ibG6uF55p4lH"
      },
      "outputs": [],
      "source": [
        "Audio('audio_example.mp3')"
      ]
    },
    {
      "cell_type": "markdown",
      "source": [
        "Les dernières versions de spleeter n'ont pas besoin du -i il faut donc l'enlever"
      ],
      "metadata": {
        "id": "VkF7Kkngm_KH"
      }
    },
    {
      "cell_type": "code",
      "execution_count": null,
      "metadata": {
        "id": "kOAqBcPhn6IU"
      },
      "outputs": [],
      "source": [
        "!spleeter separate audio_example.mp3 -o output_2stem/ "
      ]
    },
    {
      "cell_type": "markdown",
      "source": [
        "La commande ci dessous permet de transformer le .mp3 en .wav"
      ],
      "metadata": {
        "id": "fo22Pdrq9tgY"
      }
    },
    {
      "cell_type": "code",
      "execution_count": null,
      "metadata": {
        "id": "dGL-k5xxoKbu"
      },
      "outputs": [],
      "source": [
        "!spleeter separate -o output/ audio_example.mp3"
      ]
    },
    {
      "cell_type": "markdown",
      "source": [
        "La commande ci dessous permet au .wav d'avoir une meilleure qualité audio"
      ],
      "metadata": {
        "id": "AOg3XeTa9nvH"
      }
    },
    {
      "cell_type": "code",
      "source": [
        "!ffmpeg -hide_banner -i output_2stem/audio_example/vocals.wav -vn -ar 44100 -ac 2 -b:a 256k output_2stem/audio_example/audio_example_vocals.mp3\n",
        "!ffmpeg -hide_banner -i output_2stem/audio_example/accompaniment.wav -vn -ar 44100 -ac 2 -b:a 256k output_2stem/audio_example/audio_example_karaoke.mp3"
      ],
      "metadata": {
        "id": "huBTH_BY9muC"
      },
      "execution_count": null,
      "outputs": []
    },
    {
      "cell_type": "code",
      "execution_count": null,
      "metadata": {
        "id": "IDuPWcAMoZP_"
      },
      "outputs": [],
      "source": [
        "!ls output/audio_example"
      ]
    },
    {
      "cell_type": "code",
      "source": [
        "import os\n",
        "\n",
        "# Chemin d'accès au fichier\n",
        "chemin_fichier = '/content/output_2stem/audio_example/accompaniment.wav'\n",
        "\n",
        "# Nouveau nom de fichier\n",
        "nouveau_nom = 'instrumental.wav'\n",
        "\n",
        "# Renommer le fichier\n",
        "os.rename(chemin_fichier, os.path.join(os.path.dirname(chemin_fichier), nouveau_nom))\n"
      ],
      "metadata": {
        "id": "zJUjSqWpYGcb"
      },
      "execution_count": null,
      "outputs": []
    },
    {
      "cell_type": "code",
      "source": [
        "import os\n",
        "\n",
        "# Chemin d'accès au fichier\n",
        "chemin_fichier = '/content/output/audio_example/accompaniment.wav'\n",
        "\n",
        "# Nouveau nom de fichier\n",
        "nouveau_nom = 'instrumental.wav'\n",
        "\n",
        "# Renommer le fichier\n",
        "os.rename(chemin_fichier, os.path.join(os.path.dirname(chemin_fichier), nouveau_nom))"
      ],
      "metadata": {
        "id": "CePtA05kYeTF"
      },
      "execution_count": null,
      "outputs": []
    },
    {
      "cell_type": "code",
      "execution_count": null,
      "metadata": {
        "id": "e7CHpyiloxrk"
      },
      "outputs": [],
      "source": [
        "Audio('output/audio_example/vocals.wav')"
      ]
    },
    {
      "cell_type": "code",
      "execution_count": null,
      "metadata": {
        "id": "ibXd-WCTpT0w"
      },
      "outputs": [],
      "source": [
        "Audio('output/audio_example/instrumental.wav')"
      ]
    },
    {
      "cell_type": "code",
      "source": [
        "import zipfile\n",
        "with zipfile.ZipFile('Stems.zip', 'w') as myzip:\n",
        "    myzip.write('output/audio_example/instrumental.wav')\n",
        "    myzip.write('output/audio_example/vocals.wav')\n"
      ],
      "metadata": {
        "id": "4vLAL4CCY2Ya"
      },
      "execution_count": null,
      "outputs": []
    },
    {
      "cell_type": "code",
      "source": [
        "from google.colab import files\n",
        "\n",
        "# Définir le nom du fichier à télécharger\n",
        "nom_fichier = \"Stems.zip\"\n",
        "\n",
        "# Télécharger le fichier\n",
        "files.download(nom_fichier)\n"
      ],
      "metadata": {
        "id": "W9lem8BJZiEv"
      },
      "execution_count": null,
      "outputs": []
    },
    {
      "cell_type": "markdown",
      "source": [
        "Code pour faire un stems de 5 pistes"
      ],
      "metadata": {
        "id": "o5ckDQ1m_C49"
      }
    },
    {
      "cell_type": "code",
      "source": [
        "!spleeter separate audio_example.mp3 -o output_5stems -p spleeter:5stems"
      ],
      "metadata": {
        "id": "HkRE4yme_Jnd"
      },
      "execution_count": null,
      "outputs": []
    },
    {
      "cell_type": "code",
      "source": [
        "!ls output_5stems/audio_example"
      ],
      "metadata": {
        "id": "gOalnN9R_R9l"
      },
      "execution_count": null,
      "outputs": []
    },
    {
      "cell_type": "code",
      "source": [
        "!ffmpeg -hide_banner -i output_5stems/audio_example/vocals.wav -vn -ar 44100 -ac 2 -b:a 256k output_5stems/audio_example/audio_example_5s_vocals.mp3\n",
        "!ffmpeg -hide_banner -i output_5stems/audio_example/drums.wav -vn -ar 44100 -ac 2 -b:a 256k output_5stems/audio_example/audio_example_5s_drums.mp3\n",
        "!ffmpeg -hide_banner -i output_5stems/audio_example/other.wav -vn -ar 44100 -ac 2 -b:a 256k output_5stems/audio_example/audio_example_5s_other.mp3\n",
        "!ffmpeg -hide_banner -i output_5stems/audio_example/piano.wav -vn -ar 44100 -ac 2 -b:a 256k output_5stems/audio_example/audio_example_5s_piano.mp3\n",
        "!ffmpeg -hide_banner -i output_5stems/audio_example/bass.wav -vn -ar 44100 -ac 2 -b:a 256k output_5stems/audio_example/audio_example_5s_bass.mp3"
      ],
      "metadata": {
        "id": "3INqVTzp_VoN"
      },
      "execution_count": null,
      "outputs": []
    },
    {
      "cell_type": "code",
      "source": [
        "!ls output_5stems/audio_example/*.mp3"
      ],
      "metadata": {
        "id": "kawj1voz_5Pa"
      },
      "execution_count": null,
      "outputs": []
    },
    {
      "cell_type": "markdown",
      "source": [
        "Commande ci-dessous permet de créer un fichier ZIP des 5 stems .wav"
      ],
      "metadata": {
        "id": "UlPlJJTgBT6j"
      }
    },
    {
      "cell_type": "code",
      "source": [
        "import zipfile\n",
        "with zipfile.ZipFile('Stems.zip', 'w') as myzip:\n",
        "    myzip.write('output_5stems/audio_example/bass.wav')\n",
        "    myzip.write('output_5stems/audio_example/drums.wav')\n",
        "    myzip.write('output_5stems/audio_example/other.wav')\n",
        "    myzip.write('output_5stems/audio_example/piano.wav')\n",
        "    myzip.write('output_5stems/audio_example/vocals.wav')\n"
      ],
      "metadata": {
        "id": "VJrEfYWnA_WZ"
      },
      "execution_count": null,
      "outputs": []
    },
    {
      "cell_type": "code",
      "source": [
        "from google.colab import files\n",
        "\n",
        "# Définir le nom du fichier à télécharger\n",
        "nom_fichier = \"Stems.zip\"\n",
        "\n",
        "# Télécharger le fichier\n",
        "files.download(nom_fichier)"
      ],
      "metadata": {
        "id": "HJ4IxbLxaLfx"
      },
      "execution_count": null,
      "outputs": []
    }
  ],
  "metadata": {
    "colab": {
      "provenance": []
    },
    "kernelspec": {
      "display_name": "Python 3",
      "name": "python3"
    }
  },
  "nbformat": 4,
  "nbformat_minor": 0
}